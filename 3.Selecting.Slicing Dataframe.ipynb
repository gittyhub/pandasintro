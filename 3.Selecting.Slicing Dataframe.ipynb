{
 "cells": [
  {
   "cell_type": "markdown",
   "metadata": {},
   "source": [
    "# 3.SELECTING/SLICING DATA IN DATAFRAME"
   ]
  },
  {
   "cell_type": "markdown",
   "metadata": {},
   "source": [
    "## Section"
   ]
  },
  {
   "cell_type": "markdown",
   "metadata": {},
   "source": [
    "1)[Selecting By Column Name](#SELECTING-BY-COLUMN-NAME/WITH-RANGE)<br>\n",
    "2)[Selecting By Column Number](#SELECTING-BY-COLUMN-NUMBER/WITH-RANGE)<br>\n",
    "3)[Selecting By Row Name](#SELECTING-BY-ROW-NAME/WITH-RANGE)<br>\n",
    "4)[Selecting By Row Number](#SELECTING-BY-ROW-NUMBER/WITH-RANGE)<br>\n",
    "5)[Selecting Data](#SELECTING-DATA)<br>\n",
    "6)[Selecting Columns And Rows](#SELECTING-COLUMNS-AND-ROWS)<br>\n",
    "7)[Swapping Columns](#SWAPPING-COLUMNS)<br>"
   ]
  },
  {
   "cell_type": "markdown",
   "metadata": {},
   "source": [
    "## DIFFERENCE BETWEEN SERIES AND DATAFRAME\n",
    "<sup>1</sup>Series can only contain single list with index, whereas dataframe can be made of more than one series or we can say that a dataframe is a collection of series that can be used to analyse the data."
   ]
  },
  {
   "cell_type": "markdown",
   "metadata": {},
   "source": [
    "## DIFFERENCE BETWEEN loc and iloc\n",
    "<sup>2</sup>.loc is primarily label based, but may also be used with a boolean array. .loc will raise KeyError when the items are not found.\n",
    "\n",
    "<sup>2</sup>.iloc is primarily integer position based (from 0 to length-1 of the axis), but may also be used with a boolean array. .iloc will raise IndexError if a requested indexer is out-of-bounds, except slice indexers which allow out-of-bounds indexing."
   ]
  },
  {
   "cell_type": "code",
   "execution_count": 3,
   "metadata": {},
   "outputs": [
    {
     "data": {
      "text/html": [
       "<div>\n",
       "<style scoped>\n",
       "    .dataframe tbody tr th:only-of-type {\n",
       "        vertical-align: middle;\n",
       "    }\n",
       "\n",
       "    .dataframe tbody tr th {\n",
       "        vertical-align: top;\n",
       "    }\n",
       "\n",
       "    .dataframe thead th {\n",
       "        text-align: right;\n",
       "    }\n",
       "</style>\n",
       "<table border=\"1\" class=\"dataframe\">\n",
       "  <thead>\n",
       "    <tr style=\"text-align: right;\">\n",
       "      <th></th>\n",
       "      <th>A</th>\n",
       "      <th>B</th>\n",
       "      <th>C</th>\n",
       "      <th>D</th>\n",
       "      <th>E</th>\n",
       "    </tr>\n",
       "  </thead>\n",
       "  <tbody>\n",
       "    <tr>\n",
       "      <th>2020-04-01</th>\n",
       "      <td>-0.389731</td>\n",
       "      <td>1.692280</td>\n",
       "      <td>1.849792</td>\n",
       "      <td>0.282607</td>\n",
       "      <td>-0.565654</td>\n",
       "    </tr>\n",
       "    <tr>\n",
       "      <th>2020-04-02</th>\n",
       "      <td>0.571418</td>\n",
       "      <td>0.872103</td>\n",
       "      <td>-1.826330</td>\n",
       "      <td>-0.755075</td>\n",
       "      <td>-1.262654</td>\n",
       "    </tr>\n",
       "    <tr>\n",
       "      <th>2020-04-03</th>\n",
       "      <td>0.144592</td>\n",
       "      <td>0.605610</td>\n",
       "      <td>-1.848609</td>\n",
       "      <td>-0.413979</td>\n",
       "      <td>0.649762</td>\n",
       "    </tr>\n",
       "    <tr>\n",
       "      <th>2020-04-04</th>\n",
       "      <td>-1.517552</td>\n",
       "      <td>-0.905539</td>\n",
       "      <td>-0.350625</td>\n",
       "      <td>-0.556692</td>\n",
       "      <td>-0.470660</td>\n",
       "    </tr>\n",
       "    <tr>\n",
       "      <th>2020-04-05</th>\n",
       "      <td>-0.339092</td>\n",
       "      <td>0.165935</td>\n",
       "      <td>0.470530</td>\n",
       "      <td>-1.279291</td>\n",
       "      <td>1.716600</td>\n",
       "    </tr>\n",
       "  </tbody>\n",
       "</table>\n",
       "</div>"
      ],
      "text/plain": [
       "                   A         B         C         D         E\n",
       "2020-04-01 -0.389731  1.692280  1.849792  0.282607 -0.565654\n",
       "2020-04-02  0.571418  0.872103 -1.826330 -0.755075 -1.262654\n",
       "2020-04-03  0.144592  0.605610 -1.848609 -0.413979  0.649762\n",
       "2020-04-04 -1.517552 -0.905539 -0.350625 -0.556692 -0.470660\n",
       "2020-04-05 -0.339092  0.165935  0.470530 -1.279291  1.716600"
      ]
     },
     "execution_count": 3,
     "metadata": {},
     "output_type": "execute_result"
    }
   ],
   "source": [
    "import pandas as pd\n",
    "import numpy as np\n",
    "\n",
    "date = pd.date_range('04-01-2020',periods=5)\n",
    "df_slicing = pd.DataFrame(np.random.randn(5,5), columns=list('ABCDE'), index=date)\n",
    "df_slicing"
   ]
  },
  {
   "cell_type": "markdown",
   "metadata": {},
   "source": [
    "## SELECTING BY COLUMN NAME/WITH RANGE"
   ]
  },
  {
   "cell_type": "markdown",
   "metadata": {},
   "source": [
    "[Top](#Section)"
   ]
  },
  {
   "cell_type": "code",
   "execution_count": 4,
   "metadata": {},
   "outputs": [
    {
     "data": {
      "text/html": [
       "<div>\n",
       "<style scoped>\n",
       "    .dataframe tbody tr th:only-of-type {\n",
       "        vertical-align: middle;\n",
       "    }\n",
       "\n",
       "    .dataframe tbody tr th {\n",
       "        vertical-align: top;\n",
       "    }\n",
       "\n",
       "    .dataframe thead th {\n",
       "        text-align: right;\n",
       "    }\n",
       "</style>\n",
       "<table border=\"1\" class=\"dataframe\">\n",
       "  <thead>\n",
       "    <tr style=\"text-align: right;\">\n",
       "      <th></th>\n",
       "      <th>C</th>\n",
       "      <th>D</th>\n",
       "    </tr>\n",
       "  </thead>\n",
       "  <tbody>\n",
       "    <tr>\n",
       "      <th>2020-04-01</th>\n",
       "      <td>1.849792</td>\n",
       "      <td>0.282607</td>\n",
       "    </tr>\n",
       "    <tr>\n",
       "      <th>2020-04-02</th>\n",
       "      <td>-1.826330</td>\n",
       "      <td>-0.755075</td>\n",
       "    </tr>\n",
       "    <tr>\n",
       "      <th>2020-04-03</th>\n",
       "      <td>-1.848609</td>\n",
       "      <td>-0.413979</td>\n",
       "    </tr>\n",
       "    <tr>\n",
       "      <th>2020-04-04</th>\n",
       "      <td>-0.350625</td>\n",
       "      <td>-0.556692</td>\n",
       "    </tr>\n",
       "    <tr>\n",
       "      <th>2020-04-05</th>\n",
       "      <td>0.470530</td>\n",
       "      <td>-1.279291</td>\n",
       "    </tr>\n",
       "  </tbody>\n",
       "</table>\n",
       "</div>"
      ],
      "text/plain": [
       "                   C         D\n",
       "2020-04-01  1.849792  0.282607\n",
       "2020-04-02 -1.826330 -0.755075\n",
       "2020-04-03 -1.848609 -0.413979\n",
       "2020-04-04 -0.350625 -0.556692\n",
       "2020-04-05  0.470530 -1.279291"
      ]
     },
     "execution_count": 4,
     "metadata": {},
     "output_type": "execute_result"
    }
   ],
   "source": [
    "df_slicing.A\n",
    "df_slicing['A']\n",
    "df_slicing[['A','C']]\n",
    "df_slicing.loc[:,['C','D']]\n",
    "#Doesnt look like you can select column range, but you can select multiple columns. Use iloc to select column range"
   ]
  },
  {
   "cell_type": "markdown",
   "metadata": {},
   "source": [
    "## SELECTING BY COLUMN NUMBER/WITH RANGE"
   ]
  },
  {
   "cell_type": "markdown",
   "metadata": {},
   "source": [
    "[Top](#Section)"
   ]
  },
  {
   "cell_type": "code",
   "execution_count": 5,
   "metadata": {},
   "outputs": [
    {
     "data": {
      "text/html": [
       "<div>\n",
       "<style scoped>\n",
       "    .dataframe tbody tr th:only-of-type {\n",
       "        vertical-align: middle;\n",
       "    }\n",
       "\n",
       "    .dataframe tbody tr th {\n",
       "        vertical-align: top;\n",
       "    }\n",
       "\n",
       "    .dataframe thead th {\n",
       "        text-align: right;\n",
       "    }\n",
       "</style>\n",
       "<table border=\"1\" class=\"dataframe\">\n",
       "  <thead>\n",
       "    <tr style=\"text-align: right;\">\n",
       "      <th></th>\n",
       "      <th>A</th>\n",
       "      <th>B</th>\n",
       "      <th>C</th>\n",
       "    </tr>\n",
       "  </thead>\n",
       "  <tbody>\n",
       "    <tr>\n",
       "      <th>2020-04-01</th>\n",
       "      <td>-0.389731</td>\n",
       "      <td>1.692280</td>\n",
       "      <td>1.849792</td>\n",
       "    </tr>\n",
       "    <tr>\n",
       "      <th>2020-04-02</th>\n",
       "      <td>0.571418</td>\n",
       "      <td>0.872103</td>\n",
       "      <td>-1.826330</td>\n",
       "    </tr>\n",
       "    <tr>\n",
       "      <th>2020-04-03</th>\n",
       "      <td>0.144592</td>\n",
       "      <td>0.605610</td>\n",
       "      <td>-1.848609</td>\n",
       "    </tr>\n",
       "    <tr>\n",
       "      <th>2020-04-04</th>\n",
       "      <td>-1.517552</td>\n",
       "      <td>-0.905539</td>\n",
       "      <td>-0.350625</td>\n",
       "    </tr>\n",
       "    <tr>\n",
       "      <th>2020-04-05</th>\n",
       "      <td>-0.339092</td>\n",
       "      <td>0.165935</td>\n",
       "      <td>0.470530</td>\n",
       "    </tr>\n",
       "  </tbody>\n",
       "</table>\n",
       "</div>"
      ],
      "text/plain": [
       "                   A         B         C\n",
       "2020-04-01 -0.389731  1.692280  1.849792\n",
       "2020-04-02  0.571418  0.872103 -1.826330\n",
       "2020-04-03  0.144592  0.605610 -1.848609\n",
       "2020-04-04 -1.517552 -0.905539 -0.350625\n",
       "2020-04-05 -0.339092  0.165935  0.470530"
      ]
     },
     "execution_count": 5,
     "metadata": {},
     "output_type": "execute_result"
    }
   ],
   "source": [
    "#df_slicing[df_slicing.columns[0:2,4:5]] #<- wont work\n",
    "df_slicing[df_slicing.columns[np.concatenate([range(0,2),range(3,4)])]]\n",
    "df_slicing[df_slicing.columns[0:2]]\n",
    "df_slicing.iloc[:,[0,2,4]]\n",
    "#df_slicing.iloc[:,[0:2]] <-wont work\n",
    "df_slicing.iloc[:,np.r_[0:2,4:5]]\n",
    "df_slicing.iloc[:,0:3]"
   ]
  },
  {
   "cell_type": "markdown",
   "metadata": {},
   "source": [
    "## SELECTING BY ROW NAME/WITH RANGE"
   ]
  },
  {
   "cell_type": "markdown",
   "metadata": {},
   "source": [
    "[Top](#Section)"
   ]
  },
  {
   "cell_type": "code",
   "execution_count": 6,
   "metadata": {},
   "outputs": [
    {
     "data": {
      "text/html": [
       "<div>\n",
       "<style scoped>\n",
       "    .dataframe tbody tr th:only-of-type {\n",
       "        vertical-align: middle;\n",
       "    }\n",
       "\n",
       "    .dataframe tbody tr th {\n",
       "        vertical-align: top;\n",
       "    }\n",
       "\n",
       "    .dataframe thead th {\n",
       "        text-align: right;\n",
       "    }\n",
       "</style>\n",
       "<table border=\"1\" class=\"dataframe\">\n",
       "  <thead>\n",
       "    <tr style=\"text-align: right;\">\n",
       "      <th></th>\n",
       "      <th>A</th>\n",
       "      <th>B</th>\n",
       "      <th>C</th>\n",
       "      <th>D</th>\n",
       "      <th>E</th>\n",
       "    </tr>\n",
       "  </thead>\n",
       "  <tbody>\n",
       "    <tr>\n",
       "      <th>2020-04-01</th>\n",
       "      <td>-0.389731</td>\n",
       "      <td>1.692280</td>\n",
       "      <td>1.849792</td>\n",
       "      <td>0.282607</td>\n",
       "      <td>-0.565654</td>\n",
       "    </tr>\n",
       "    <tr>\n",
       "      <th>2020-04-02</th>\n",
       "      <td>0.571418</td>\n",
       "      <td>0.872103</td>\n",
       "      <td>-1.826330</td>\n",
       "      <td>-0.755075</td>\n",
       "      <td>-1.262654</td>\n",
       "    </tr>\n",
       "    <tr>\n",
       "      <th>2020-04-03</th>\n",
       "      <td>0.144592</td>\n",
       "      <td>0.605610</td>\n",
       "      <td>-1.848609</td>\n",
       "      <td>-0.413979</td>\n",
       "      <td>0.649762</td>\n",
       "    </tr>\n",
       "  </tbody>\n",
       "</table>\n",
       "</div>"
      ],
      "text/plain": [
       "                   A         B         C         D         E\n",
       "2020-04-01 -0.389731  1.692280  1.849792  0.282607 -0.565654\n",
       "2020-04-02  0.571418  0.872103 -1.826330 -0.755075 -1.262654\n",
       "2020-04-03  0.144592  0.605610 -1.848609 -0.413979  0.649762"
      ]
     },
     "execution_count": 6,
     "metadata": {},
     "output_type": "execute_result"
    }
   ],
   "source": [
    "df_slicing[0:2] #<- not by name but by []\n",
    "df_slicing.loc['2020-04-03']\n",
    "df_slicing.loc[date[2]] #<-selects the entire 3rd row\n",
    "#df_slicing['2020-04-03'] <- wont work\n",
    "df_slicing.loc[[False,True,True,True,False]] #<- Boolean\n",
    "df_slicing.loc[['2020-04-01','2020-04-03']]\n",
    "df_slicing.loc['2020-04-01':'2020-04-03']"
   ]
  },
  {
   "cell_type": "markdown",
   "metadata": {},
   "source": [
    "## SELECTING BY ROW NUMBER/WITH RANGE"
   ]
  },
  {
   "cell_type": "markdown",
   "metadata": {},
   "source": [
    "[Top](#Section)"
   ]
  },
  {
   "cell_type": "code",
   "execution_count": 7,
   "metadata": {},
   "outputs": [
    {
     "data": {
      "text/plain": [
       "A    0.144592\n",
       "B    0.605610\n",
       "C   -1.848609\n",
       "D   -0.413979\n",
       "E    0.649762\n",
       "Name: 2020-04-03 00:00:00, dtype: float64"
      ]
     },
     "execution_count": 7,
     "metadata": {},
     "output_type": "execute_result"
    }
   ],
   "source": [
    "df_slicing[0:2]\n",
    "df_slicing[::2]\n",
    "df_slicing.iloc[2:5,:]\n",
    "df_slicing.iloc[2]\n",
    "#df_slicing[1:][1:3] <-SUB SLICE"
   ]
  },
  {
   "cell_type": "code",
   "execution_count": 8,
   "metadata": {},
   "outputs": [
    {
     "data": {
      "text/html": [
       "<div>\n",
       "<style scoped>\n",
       "    .dataframe tbody tr th:only-of-type {\n",
       "        vertical-align: middle;\n",
       "    }\n",
       "\n",
       "    .dataframe tbody tr th {\n",
       "        vertical-align: top;\n",
       "    }\n",
       "\n",
       "    .dataframe thead th {\n",
       "        text-align: right;\n",
       "    }\n",
       "</style>\n",
       "<table border=\"1\" class=\"dataframe\">\n",
       "  <thead>\n",
       "    <tr style=\"text-align: right;\">\n",
       "      <th></th>\n",
       "      <th>A</th>\n",
       "      <th>B</th>\n",
       "      <th>C</th>\n",
       "      <th>D</th>\n",
       "      <th>E</th>\n",
       "    </tr>\n",
       "  </thead>\n",
       "  <tbody>\n",
       "    <tr>\n",
       "      <th>2020-04-01</th>\n",
       "      <td>-0.389731</td>\n",
       "      <td>1.692280</td>\n",
       "      <td>1.849792</td>\n",
       "      <td>0.282607</td>\n",
       "      <td>-0.565654</td>\n",
       "    </tr>\n",
       "    <tr>\n",
       "      <th>2020-04-02</th>\n",
       "      <td>0.571418</td>\n",
       "      <td>0.872103</td>\n",
       "      <td>-1.826330</td>\n",
       "      <td>-0.755075</td>\n",
       "      <td>-1.262654</td>\n",
       "    </tr>\n",
       "    <tr>\n",
       "      <th>2020-04-03</th>\n",
       "      <td>0.144592</td>\n",
       "      <td>0.605610</td>\n",
       "      <td>-1.848609</td>\n",
       "      <td>-0.413979</td>\n",
       "      <td>0.649762</td>\n",
       "    </tr>\n",
       "    <tr>\n",
       "      <th>2020-04-04</th>\n",
       "      <td>-1.517552</td>\n",
       "      <td>-0.905539</td>\n",
       "      <td>-0.350625</td>\n",
       "      <td>-0.556692</td>\n",
       "      <td>-0.470660</td>\n",
       "    </tr>\n",
       "  </tbody>\n",
       "</table>\n",
       "</div>"
      ],
      "text/plain": [
       "                   A         B         C         D         E\n",
       "2020-04-01 -0.389731  1.692280  1.849792  0.282607 -0.565654\n",
       "2020-04-02  0.571418  0.872103 -1.826330 -0.755075 -1.262654\n",
       "2020-04-03  0.144592  0.605610 -1.848609 -0.413979  0.649762\n",
       "2020-04-04 -1.517552 -0.905539 -0.350625 -0.556692 -0.470660"
      ]
     },
     "execution_count": 8,
     "metadata": {},
     "output_type": "execute_result"
    }
   ],
   "source": [
    "df_slicing['2020-04-01':'2020-04-04']"
   ]
  },
  {
   "cell_type": "markdown",
   "metadata": {},
   "source": [
    "## SELECTING DATA"
   ]
  },
  {
   "cell_type": "markdown",
   "metadata": {},
   "source": [
    "[Top](#Section)"
   ]
  },
  {
   "cell_type": "code",
   "execution_count": 9,
   "metadata": {},
   "outputs": [
    {
     "data": {
      "text/plain": [
       "-1.826329502411529"
      ]
     },
     "execution_count": 9,
     "metadata": {},
     "output_type": "execute_result"
    }
   ],
   "source": [
    "df_slicing['A'][date[2]]\n",
    "df_slicing.loc['2020-04-01','A']\n",
    "df_slicing.iloc[1,2]"
   ]
  },
  {
   "cell_type": "markdown",
   "metadata": {},
   "source": [
    "## SELECTING COLUMNS AND ROWS"
   ]
  },
  {
   "cell_type": "markdown",
   "metadata": {},
   "source": [
    "[Top](#Section)"
   ]
  },
  {
   "cell_type": "code",
   "execution_count": 10,
   "metadata": {},
   "outputs": [
    {
     "data": {
      "text/html": [
       "<div>\n",
       "<style scoped>\n",
       "    .dataframe tbody tr th:only-of-type {\n",
       "        vertical-align: middle;\n",
       "    }\n",
       "\n",
       "    .dataframe tbody tr th {\n",
       "        vertical-align: top;\n",
       "    }\n",
       "\n",
       "    .dataframe thead th {\n",
       "        text-align: right;\n",
       "    }\n",
       "</style>\n",
       "<table border=\"1\" class=\"dataframe\">\n",
       "  <thead>\n",
       "    <tr style=\"text-align: right;\">\n",
       "      <th></th>\n",
       "      <th>A</th>\n",
       "      <th>D</th>\n",
       "      <th>E</th>\n",
       "    </tr>\n",
       "  </thead>\n",
       "  <tbody>\n",
       "    <tr>\n",
       "      <th>2020-04-01</th>\n",
       "      <td>-0.389731</td>\n",
       "      <td>0.282607</td>\n",
       "      <td>-0.565654</td>\n",
       "    </tr>\n",
       "    <tr>\n",
       "      <th>2020-04-04</th>\n",
       "      <td>-1.517552</td>\n",
       "      <td>-0.556692</td>\n",
       "      <td>-0.470660</td>\n",
       "    </tr>\n",
       "  </tbody>\n",
       "</table>\n",
       "</div>"
      ],
      "text/plain": [
       "                   A         D         E\n",
       "2020-04-01 -0.389731  0.282607 -0.565654\n",
       "2020-04-04 -1.517552 -0.556692 -0.470660"
      ]
     },
     "execution_count": 10,
     "metadata": {},
     "output_type": "execute_result"
    }
   ],
   "source": [
    "df_slicing.loc['2020-04-01':'2020-04-04',['C','D']] #Range from 2020-04-01 to 2020-04-04 and column C and D\n",
    "df_slicing.iloc[0:2,2:5]\n",
    "df_slicing.iloc[[0,3],[0,3,4]]\n",
    "#df_slicing.loc['2020-04-01',['C','D']]"
   ]
  },
  {
   "cell_type": "markdown",
   "metadata": {},
   "source": [
    "## SWAPPING COLUMNS"
   ]
  },
  {
   "cell_type": "markdown",
   "metadata": {},
   "source": [
    "[Top](#Section)"
   ]
  },
  {
   "cell_type": "code",
   "execution_count": 11,
   "metadata": {},
   "outputs": [
    {
     "data": {
      "text/html": [
       "<div>\n",
       "<style scoped>\n",
       "    .dataframe tbody tr th:only-of-type {\n",
       "        vertical-align: middle;\n",
       "    }\n",
       "\n",
       "    .dataframe tbody tr th {\n",
       "        vertical-align: top;\n",
       "    }\n",
       "\n",
       "    .dataframe thead th {\n",
       "        text-align: right;\n",
       "    }\n",
       "</style>\n",
       "<table border=\"1\" class=\"dataframe\">\n",
       "  <thead>\n",
       "    <tr style=\"text-align: right;\">\n",
       "      <th></th>\n",
       "      <th>A</th>\n",
       "      <th>B</th>\n",
       "      <th>C</th>\n",
       "      <th>D</th>\n",
       "      <th>E</th>\n",
       "    </tr>\n",
       "  </thead>\n",
       "  <tbody>\n",
       "    <tr>\n",
       "      <th>2020-04-01</th>\n",
       "      <td>1.692280</td>\n",
       "      <td>-0.389731</td>\n",
       "      <td>1.849792</td>\n",
       "      <td>0.282607</td>\n",
       "      <td>-0.565654</td>\n",
       "    </tr>\n",
       "    <tr>\n",
       "      <th>2020-04-02</th>\n",
       "      <td>0.872103</td>\n",
       "      <td>0.571418</td>\n",
       "      <td>-1.826330</td>\n",
       "      <td>-0.755075</td>\n",
       "      <td>-1.262654</td>\n",
       "    </tr>\n",
       "    <tr>\n",
       "      <th>2020-04-03</th>\n",
       "      <td>0.605610</td>\n",
       "      <td>0.144592</td>\n",
       "      <td>-1.848609</td>\n",
       "      <td>-0.413979</td>\n",
       "      <td>0.649762</td>\n",
       "    </tr>\n",
       "    <tr>\n",
       "      <th>2020-04-04</th>\n",
       "      <td>-0.905539</td>\n",
       "      <td>-1.517552</td>\n",
       "      <td>-0.350625</td>\n",
       "      <td>-0.556692</td>\n",
       "      <td>-0.470660</td>\n",
       "    </tr>\n",
       "    <tr>\n",
       "      <th>2020-04-05</th>\n",
       "      <td>0.165935</td>\n",
       "      <td>-0.339092</td>\n",
       "      <td>0.470530</td>\n",
       "      <td>-1.279291</td>\n",
       "      <td>1.716600</td>\n",
       "    </tr>\n",
       "  </tbody>\n",
       "</table>\n",
       "</div>"
      ],
      "text/plain": [
       "                   A         B         C         D         E\n",
       "2020-04-01  1.692280 -0.389731  1.849792  0.282607 -0.565654\n",
       "2020-04-02  0.872103  0.571418 -1.826330 -0.755075 -1.262654\n",
       "2020-04-03  0.605610  0.144592 -1.848609 -0.413979  0.649762\n",
       "2020-04-04 -0.905539 -1.517552 -0.350625 -0.556692 -0.470660\n",
       "2020-04-05  0.165935 -0.339092  0.470530 -1.279291  1.716600"
      ]
     },
     "execution_count": 11,
     "metadata": {},
     "output_type": "execute_result"
    }
   ],
   "source": [
    "df_slicing.loc[:, ['B', 'A']] = df_slicing[['A', 'B']].to_numpy()\n",
    "df_slicing.loc[:, ['B', 'A']] = df_slicing[['A', 'B']] #<- why this wont work column alignment before column assignment\n",
    "#https://pandas.pydata.org/pandas-docs/stable/user_guide/indexing.html\n",
    "df_slicing"
   ]
  },
  {
   "cell_type": "markdown",
   "metadata": {},
   "source": [
    "### Reference\n",
    "<sup>1</sup>*DF vs Series:* https://www.geeksforgeeks.org/creating-a-dataframe-from-pandas-series/#:~:text=Series%20is%20a%20type%20of,values%2C%20double%20values%20and%20more.&text=Series%20can%20only%20contain%20single,used%20to%20analyse%20the%20data\n",
    "<br>\n",
    "<sup>2</sup>*loc & iloc:* https://pandas.pydata.org/pandas-docs/stable/user_guide/indexing.html"
   ]
  },
  {
   "cell_type": "code",
   "execution_count": null,
   "metadata": {},
   "outputs": [],
   "source": []
  }
 ],
 "metadata": {
  "kernelspec": {
   "display_name": "Python 3",
   "language": "python",
   "name": "python3"
  },
  "language_info": {
   "codemirror_mode": {
    "name": "ipython",
    "version": 3
   },
   "file_extension": ".py",
   "mimetype": "text/x-python",
   "name": "python",
   "nbconvert_exporter": "python",
   "pygments_lexer": "ipython3",
   "version": "3.8.5"
  }
 },
 "nbformat": 4,
 "nbformat_minor": 4
}
