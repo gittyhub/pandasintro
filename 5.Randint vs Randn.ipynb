{
 "cells": [
  {
   "cell_type": "markdown",
   "metadata": {},
   "source": [
    "# Randint vs Randn\n",
    "Randint returns a random integer from  a distrcret uniform distribution from low to high\n",
    "<br>\n",
    "Randn creats an array of a given shape and fill it with random sample from a uniform distribution"
   ]
  },
  {
   "cell_type": "code",
   "execution_count": 43,
   "metadata": {},
   "outputs": [
    {
     "data": {
      "text/plain": [
       "array([[0.5289075 , 0.08670574, 1.49662065, 1.16375721, 1.12933961],\n",
       "       [1.19869655, 0.01374511, 0.16926866, 0.57463623, 0.25677987],\n",
       "       [0.86987337, 0.37507871, 0.01455959, 1.53008942, 0.23849773],\n",
       "       [0.00443051, 0.66366424, 0.02567776, 1.12419443, 0.14986552],\n",
       "       [1.75509205, 0.68492402, 0.82832372, 1.02901978, 0.35977262]])"
      ]
     },
     "execution_count": 43,
     "metadata": {},
     "output_type": "execute_result"
    }
   ],
   "source": [
    "import numpy as np"
   ]
  },
  {
   "cell_type": "markdown",
   "metadata": {},
   "source": [
    "# Randint"
   ]
  },
  {
   "cell_type": "code",
   "execution_count": 61,
   "metadata": {},
   "outputs": [
    {
     "data": {
      "text/plain": [
       "array([35])"
      ]
     },
     "execution_count": 61,
     "metadata": {},
     "output_type": "execute_result"
    }
   ],
   "source": [
    "#randint(low, high=optional, size)\n",
    "\n",
    "np.random.randint(100,size=1)\n",
    "\n",
    "#Pick 10 numbers in the upper bound of 50\n",
    "np.random.randint(50,size=10)\n",
    "\n",
    "#Create a 2x4 array in the upper bound of 10\n",
    "np.random.randint(10, size=(2,4))\n",
    "\n",
    "#1x3 arrary with 3 differnt upper bounds\n",
    "np.random.randint(1, [3, 5, 10])\n",
    "\n",
    "#1x3 arrary with 3 differnt lower bounds - No not typos\n",
    "np.random.randint([3, 5, 10],20)"
   ]
  },
  {
   "cell_type": "markdown",
   "metadata": {},
   "source": [
    "# Randn"
   ]
  },
  {
   "cell_type": "code",
   "execution_count": 45,
   "metadata": {},
   "outputs": [
    {
     "data": {
      "text/plain": [
       "0.05969002873891319"
      ]
     },
     "execution_count": 45,
     "metadata": {},
     "output_type": "execute_result"
    }
   ],
   "source": [
    "np.random.randn()"
   ]
  },
  {
   "cell_type": "code",
   "execution_count": 47,
   "metadata": {},
   "outputs": [
    {
     "data": {
      "text/plain": [
       "array([0.8686873 , 0.04521501, 0.45574767, 0.9131319 , 0.1677177 ])"
      ]
     },
     "execution_count": 47,
     "metadata": {},
     "output_type": "execute_result"
    }
   ],
   "source": [
    "np.random.rand(5)"
   ]
  },
  {
   "cell_type": "code",
   "execution_count": 46,
   "metadata": {},
   "outputs": [
    {
     "data": {
      "text/plain": [
       "array([[ 1.37111902,  0.31066013,  0.44250097, -0.07347934, -2.21684635],\n",
       "       [-0.26856584, -1.40772801, -0.85841927, -1.32321435, -1.90431723],\n",
       "       [-2.31071553,  0.40735023, -0.17960181,  1.20441316,  0.94526524],\n",
       "       [-0.32565868,  0.42080139,  0.15768136, -0.64269109, -1.49327169],\n",
       "       [-0.88559569, -1.8515721 ,  0.57269203, -1.29789459,  1.06616336]])"
      ]
     },
     "execution_count": 46,
     "metadata": {},
     "output_type": "execute_result"
    }
   ],
   "source": [
    "#2D arry that is 5x5\n",
    "np.random.randn(5,5)"
   ]
  },
  {
   "cell_type": "code",
   "execution_count": 50,
   "metadata": {},
   "outputs": [
    {
     "data": {
      "text/plain": [
       "array([[[ 0.05650093,  0.45132953, -1.22280416,  0.10482677],\n",
       "        [ 0.02059126, -0.38903745, -1.54169396, -0.22727655],\n",
       "        [ 1.35302769, -1.96309773, -0.58720186, -0.12880769]],\n",
       "\n",
       "       [[-0.51152891, -0.06242752,  0.07579523, -0.28094152],\n",
       "        [ 2.67961753,  0.52813055,  0.5202545 ,  0.06514044],\n",
       "        [-0.17964653,  0.36467009,  1.10774041,  0.60574632]]])"
      ]
     },
     "execution_count": 50,
     "metadata": {},
     "output_type": "execute_result"
    }
   ],
   "source": [
    "#3D array with two datafram that is 3x4\n",
    "np.random.randn(2,3,4)"
   ]
  },
  {
   "cell_type": "code",
   "execution_count": null,
   "metadata": {},
   "outputs": [],
   "source": []
  }
 ],
 "metadata": {
  "kernelspec": {
   "display_name": "Python 3",
   "language": "python",
   "name": "python3"
  },
  "language_info": {
   "codemirror_mode": {
    "name": "ipython",
    "version": 3
   },
   "file_extension": ".py",
   "mimetype": "text/x-python",
   "name": "python",
   "nbconvert_exporter": "python",
   "pygments_lexer": "ipython3",
   "version": "3.8.5"
  }
 },
 "nbformat": 4,
 "nbformat_minor": 4
}
