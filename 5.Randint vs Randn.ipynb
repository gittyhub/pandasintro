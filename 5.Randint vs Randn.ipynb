{
 "cells": [
  {
   "cell_type": "markdown",
   "metadata": {},
   "source": [
    "# Randint vs Randn\n",
    "Randint returns a random integer from  a distrcret uniform distribution from low to high. Random.randint(a,b), where a <= N <= b"
   ]
  },
  {
   "cell_type": "code",
   "execution_count": 48,
   "metadata": {},
   "outputs": [],
   "source": [
    "#numpy.random.randint(low, high=None, size=None, dtype='l')"
   ]
  },
  {
   "cell_type": "markdown",
   "metadata": {},
   "source": [
    "Randn returns a sample from the standard normal distribution. It can also be used to creats an array of a given shape and filled with random float from normal distribution."
   ]
  },
  {
   "cell_type": "code",
   "execution_count": 49,
   "metadata": {},
   "outputs": [],
   "source": [
    "#numpy.random.randn(d0, d1, ..., dn)"
   ]
  },
  {
   "cell_type": "code",
   "execution_count": 50,
   "metadata": {},
   "outputs": [],
   "source": [
    "import numpy as np"
   ]
  },
  {
   "cell_type": "markdown",
   "metadata": {},
   "source": [
    "# Randint"
   ]
  },
  {
   "cell_type": "code",
   "execution_count": 51,
   "metadata": {},
   "outputs": [
    {
     "data": {
      "text/plain": [
       "array([10, 16, 12])"
      ]
     },
     "execution_count": 51,
     "metadata": {},
     "output_type": "execute_result"
    }
   ],
   "source": [
    "#randint(low, high=optional, size)\n",
    "\n",
    "np.random.randint(100,size=1)\n",
    "\n",
    "#Pick 10 numbers in the upper bound of 50\n",
    "np.random.randint(50,size=10)\n",
    "\n",
    "#Create a 2x4 array in the upper bound of 10\n",
    "np.random.randint(10, size=(2,4))\n",
    "\n",
    "#1x3 arrary with 3 differnt upper bounds. Lower bound is 1, and the hieghtest these three can go is in the list\n",
    "np.random.randint(1, [3, 5, 10])\n",
    "\n",
    "#1x3 arrary with 3 differnt lower bounds. Lower bound of the three is in the list, while 20 is the upper bound\n",
    "np.random.randint([4, 5, 10],20)"
   ]
  },
  {
   "cell_type": "markdown",
   "metadata": {},
   "source": [
    "# Randn"
   ]
  },
  {
   "cell_type": "code",
   "execution_count": 52,
   "metadata": {},
   "outputs": [
    {
     "data": {
      "text/plain": [
       "1.9090713043047494"
      ]
     },
     "execution_count": 52,
     "metadata": {},
     "output_type": "execute_result"
    }
   ],
   "source": [
    "np.random.randn()"
   ]
  },
  {
   "cell_type": "code",
   "execution_count": 53,
   "metadata": {},
   "outputs": [
    {
     "data": {
      "text/plain": [
       "array([0.93775279, 0.75757811, 0.87747562, 0.23167922, 0.07719149])"
      ]
     },
     "execution_count": 53,
     "metadata": {},
     "output_type": "execute_result"
    }
   ],
   "source": [
    "np.random.rand(5)"
   ]
  },
  {
   "cell_type": "code",
   "execution_count": 54,
   "metadata": {},
   "outputs": [
    {
     "data": {
      "text/plain": [
       "array([[-0.13022402,  0.490232  , -2.94648775,  1.71571313,  0.76991798],\n",
       "       [-0.24386684,  0.33732042,  0.26688151,  0.29559922, -0.50126306],\n",
       "       [ 0.38767889,  0.28464286, -0.1929684 ,  0.29466071,  0.78709673],\n",
       "       [ 0.48345047,  0.52641548, -0.53471111,  0.73661464, -1.50129034],\n",
       "       [ 0.57232697, -1.81169934, -0.50833843, -0.38104334, -1.88282081]])"
      ]
     },
     "execution_count": 54,
     "metadata": {},
     "output_type": "execute_result"
    }
   ],
   "source": [
    "#2D arry that is 5x5\n",
    "np.random.randn(5,5)"
   ]
  },
  {
   "cell_type": "code",
   "execution_count": 55,
   "metadata": {},
   "outputs": [
    {
     "data": {
      "text/plain": [
       "array([[[ 0.48490562,  0.31326021, -1.10829086,  0.89261624],\n",
       "        [-0.02795985,  1.57876294,  0.96493728,  0.35332572],\n",
       "        [-0.06261115,  0.78104457,  1.43546289, -0.63733497]],\n",
       "\n",
       "       [[ 0.5025725 ,  1.50425285,  1.27716007, -1.5301953 ],\n",
       "        [-1.01171051,  0.54940159,  0.06894324,  0.69816051],\n",
       "        [ 1.13271901,  0.07814539,  0.30667068,  2.19694921]]])"
      ]
     },
     "execution_count": 55,
     "metadata": {},
     "output_type": "execute_result"
    }
   ],
   "source": [
    "#3D array with two datafram that is 3x4\n",
    "np.random.randn(2,3,4)"
   ]
  },
  {
   "cell_type": "code",
   "execution_count": 56,
   "metadata": {},
   "outputs": [],
   "source": [
    "#We can still use a random.random() to return the next random floating point"
   ]
  },
  {
   "cell_type": "markdown",
   "metadata": {},
   "source": [
    "### Exercise"
   ]
  },
  {
   "cell_type": "code",
   "execution_count": 57,
   "metadata": {},
   "outputs": [
    {
     "data": {
      "text/plain": [
       "2.0964314631420162"
      ]
     },
     "execution_count": 57,
     "metadata": {},
     "output_type": "execute_result"
    }
   ],
   "source": [
    "#Generate one randome Number using randint, random and randn\n",
    "np.random.randint(10)\n",
    "np.random.rand()\n",
    "np.random.randn()"
   ]
  },
  {
   "cell_type": "code",
   "execution_count": 58,
   "metadata": {},
   "outputs": [],
   "source": [
    "#Generate 10 random numbers using randint, random and randn"
   ]
  },
  {
   "cell_type": "code",
   "execution_count": 59,
   "metadata": {},
   "outputs": [
    {
     "data": {
      "text/plain": [
       "array([ 1.10261902, -0.40546295,  1.90197597, -0.60133114,  2.60164313,\n",
       "       -2.04929071, -1.85732542, -1.55356327, -0.7845093 , -1.74186697])"
      ]
     },
     "execution_count": 59,
     "metadata": {},
     "output_type": "execute_result"
    }
   ],
   "source": [
    "#create random list with range\n",
    "np.random.randint(1,50,size=10)\n",
    "np.random.rand(10)\n",
    "np.random.randn(10)"
   ]
  },
  {
   "cell_type": "code",
   "execution_count": 60,
   "metadata": {},
   "outputs": [
    {
     "data": {
      "text/plain": [
       "array([[-1.1183445 ,  0.12642052, -1.44730426, -0.14749576,  0.04768958,\n",
       "        -0.53462546, -2.33578163,  1.44167682, -0.9092493 ,  0.78316818],\n",
       "       [-0.25585512, -0.00494792,  1.50324771, -0.90920817, -0.30360582,\n",
       "         0.24354255, -0.34605395, -1.36884954,  0.4493365 ,  0.49978241],\n",
       "       [-2.24597794,  0.59795567, -0.49985007, -0.43968497, -0.99702413,\n",
       "        -0.64983925, -0.17707798,  0.41562004, -0.20663843, -0.36598706],\n",
       "       [ 1.07929225, -1.95291993,  2.0768404 ,  0.53810595,  1.1327892 ,\n",
       "        -0.28784108,  0.92367182, -1.02755654, -0.95635631,  1.33876897],\n",
       "       [-2.44780026,  0.83035936,  0.06079172, -0.703134  , -0.44250746,\n",
       "         1.88033346,  1.66106744, -0.5366158 ,  1.95593207, -0.10652237],\n",
       "       [ 0.35940088, -0.98423442, -1.19809449, -0.38822642,  0.46088992,\n",
       "         1.39525647, -0.7561164 , -1.46233694, -0.70589539,  0.13779415],\n",
       "       [-0.50290756, -1.13253284, -0.74931204,  0.46720754,  0.70572514,\n",
       "        -0.15171704,  0.5287464 ,  0.17264766,  0.07998992, -1.5722821 ],\n",
       "       [ 0.96356399, -1.80619363, -1.14382827,  0.62596076,  0.34798188,\n",
       "        -1.04572762,  0.60488287,  0.88794748, -0.51456674,  0.69760063],\n",
       "       [ 0.91804211, -0.82992964,  0.38652429, -1.17171057,  0.51303841,\n",
       "         0.68542621,  0.73404179, -0.89545994, -2.33751385, -1.11239224],\n",
       "       [ 2.17837711,  2.21525749, -1.16254788, -0.55531955, -2.02195897,\n",
       "        -0.19290326, -1.21717606,  0.73477001,  1.86753381,  0.05402201]])"
      ]
     },
     "execution_count": 60,
     "metadata": {},
     "output_type": "execute_result"
    }
   ],
   "source": [
    "#Generate a 10x10 matrix of random numbers using randint, random and randn\n",
    "np.random.randint(1,100,size=(10,10))\n",
    "np.random.rand(10,10)\n",
    "np.random.randn(10,10)"
   ]
  },
  {
   "cell_type": "code",
   "execution_count": 61,
   "metadata": {},
   "outputs": [
    {
     "ename": "SyntaxError",
     "evalue": "invalid syntax (<ipython-input-61-4a9421e997c1>, line 2)",
     "output_type": "error",
     "traceback": [
      "\u001b[0;36m  File \u001b[0;32m\"<ipython-input-61-4a9421e997c1>\"\u001b[0;36m, line \u001b[0;32m2\u001b[0m\n\u001b[0;31m    Create a random number generator for lottery and see if you would ever win\u001b[0m\n\u001b[0m           ^\u001b[0m\n\u001b[0;31mSyntaxError\u001b[0m\u001b[0;31m:\u001b[0m invalid syntax\n"
     ]
    }
   ],
   "source": [
    "## Project\n",
    "Create a random number generator for lottery and see if you would ever win"
   ]
  },
  {
   "cell_type": "code",
   "execution_count": null,
   "metadata": {},
   "outputs": [],
   "source": [
    "https://docs.python.org/2/library/random.html\n",
    "https://docs.scipy.org/doc/numpy-1.15.1/reference/generated/numpy.random.randn.html\n",
    "https://docs.scipy.org/doc/numpy-1.15.1/reference/generated/numpy.random.randint.html\n",
    "https://numpy.org/doc/stable/reference/random/generated/numpy.random.randn.html\n",
    "https://numpy.org/doc/stable/reference/random/generated/numpy.random.randint.html\n",
    "https://numpy.org/doc/1.16/reference/routines.random.html"
   ]
  }
 ],
 "metadata": {
  "kernelspec": {
   "display_name": "Python 3",
   "language": "python",
   "name": "python3"
  },
  "language_info": {
   "codemirror_mode": {
    "name": "ipython",
    "version": 3
   },
   "file_extension": ".py",
   "mimetype": "text/x-python",
   "name": "python",
   "nbconvert_exporter": "python",
   "pygments_lexer": "ipython3",
   "version": "3.8.5"
  }
 },
 "nbformat": 4,
 "nbformat_minor": 4
}
